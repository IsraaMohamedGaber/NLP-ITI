{
  "nbformat": 4,
  "nbformat_minor": 0,
  "metadata": {
    "colab": {
      "provenance": []
    },
    "kernelspec": {
      "name": "python3",
      "display_name": "Python 3"
    },
    "language_info": {
      "name": "python"
    }
  },
  "cells": [
    {
      "cell_type": "markdown",
      "source": [
        "**Documention**\n",
        "\n",
        "https://spacy.io/usage/training\n",
        "\n",
        "https://huggingface.co/datasets/eriktks/conll2003"
      ],
      "metadata": {
        "id": "SIsa1G00Esms"
      }
    },
    {
      "cell_type": "code",
      "source": [
        "#!pip install spacy\n"
      ],
      "metadata": {
        "id": "EvwfM3prFSB-"
      },
      "execution_count": null,
      "outputs": []
    },
    {
      "cell_type": "markdown",
      "source": [
        "how to build ner model ?\n",
        "1. dataset\n",
        "2. framework that supports building ner models -> spacy\n",
        "3. what is the shape of the dataset i need to make it work with spacy\n",
        "4. build training pipeline\n",
        "5. evaluate"
      ],
      "metadata": {
        "id": "_Dt-6h2BGCTL"
      }
    },
    {
      "cell_type": "markdown",
      "source": [
        "**Dataset**"
      ],
      "metadata": {
        "id": "sCOqXJM7Ertu"
      }
    },
    {
      "cell_type": "code",
      "execution_count": 1,
      "metadata": {
        "id": "zwfmkW74EU9j"
      },
      "outputs": [],
      "source": [
        "TRAIN_DATA = [\n",
        "    (\"Apple Inc. is located in Cupertino\", {\"entities\": [(0, 10, \"ORG\"), (25, 35, \"LOC\")]}),\n",
        "    (\"Tim Cook is the CEO of Apple\", {\"entities\": [(0, 8, \"PER\"), (23, 28, \"ORG\")]})\n",
        "]\n"
      ]
    },
    {
      "cell_type": "markdown",
      "source": [
        "**Build Training Pipeline**"
      ],
      "metadata": {
        "id": "giUe2eNsFbIl"
      }
    },
    {
      "cell_type": "code",
      "source": [
        "import spacy\n",
        "from spacy.training.example import Example\n",
        "from spacy.util import minibatch\n",
        "import random\n",
        "\n",
        "# Load a blank English model\n",
        "nlp = spacy.blank(\"en\")\n",
        "\n",
        "# Create a new NER pipeline\n",
        "if \"ner\" not in nlp.pipe_names:\n",
        "    ner = nlp.add_pipe(\"ner\")\n",
        "else:\n",
        "    ner = nlp.get_pipe(\"ner\")\n",
        "\n",
        "# Add labels to the NER\n",
        "for _, annotations in TRAIN_DATA:\n",
        "    for ent in annotations.get(\"entities\"):\n",
        "        ner.add_label(ent[2])\n",
        "\n",
        "# Disable other pipelines during training\n",
        "other_pipes = [pipe for pipe in nlp.pipe_names if pipe != \"ner\"]\n",
        "with nlp.disable_pipes(*other_pipes):\n",
        "    optimizer = nlp.begin_training()\n",
        "    for i in range(30):  # 30 training iterations\n",
        "        random.shuffle(TRAIN_DATA)\n",
        "        losses = {}\n",
        "        batches = minibatch(TRAIN_DATA, size=2)\n",
        "        for batch in batches:\n",
        "            for text, annotations in batch:\n",
        "                doc = nlp.make_doc(text)\n",
        "                example = Example.from_dict(doc, annotations)\n",
        "                nlp.update([example], drop=0.5, losses=losses)\n",
        "        print(f\"Losses at iteration {i}: {losses}\")\n"
      ],
      "metadata": {
        "colab": {
          "base_uri": "https://localhost:8080/"
        },
        "id": "pVXtfVJVE5qC",
        "outputId": "e1c19d0c-c33e-44b2-9e6b-7a5910f9e808"
      },
      "execution_count": 3,
      "outputs": [
        {
          "output_type": "stream",
          "name": "stderr",
          "text": [
            "/usr/local/lib/python3.11/dist-packages/spacy/training/iob_utils.py:149: UserWarning: [W030] Some entities could not be aligned in the text \"Apple Inc. is located in Cupertino\" with entities \"[(0, 10, 'ORG'), (25, 35, 'LOC')]\". Use `spacy.training.offsets_to_biluo_tags(nlp.make_doc(text), entities)` to check the alignment. Misaligned entities ('-') will be ignored during training.\n",
            "  warnings.warn(\n"
          ]
        },
        {
          "output_type": "stream",
          "name": "stdout",
          "text": [
            "Losses at iteration 0: {'ner': np.float32(11.253367)}\n",
            "Losses at iteration 1: {'ner': np.float32(10.811395)}\n",
            "Losses at iteration 2: {'ner': np.float32(10.118758)}\n",
            "Losses at iteration 3: {'ner': np.float32(9.846732)}\n",
            "Losses at iteration 4: {'ner': np.float32(8.942562)}\n",
            "Losses at iteration 5: {'ner': np.float32(8.103602)}\n",
            "Losses at iteration 6: {'ner': np.float32(7.523084)}\n",
            "Losses at iteration 7: {'ner': np.float32(6.4966416)}\n",
            "Losses at iteration 8: {'ner': np.float32(5.6662946)}\n",
            "Losses at iteration 9: {'ner': np.float32(4.757847)}\n",
            "Losses at iteration 10: {'ner': np.float32(4.3821936)}\n",
            "Losses at iteration 11: {'ner': np.float32(4.4335003)}\n",
            "Losses at iteration 12: {'ner': np.float32(3.852095)}\n",
            "Losses at iteration 13: {'ner': np.float32(4.393154)}\n",
            "Losses at iteration 14: {'ner': np.float32(4.9026237)}\n",
            "Losses at iteration 15: {'ner': np.float32(5.1164093)}\n",
            "Losses at iteration 16: {'ner': np.float32(4.9709697)}\n",
            "Losses at iteration 17: {'ner': np.float32(4.561981)}\n",
            "Losses at iteration 18: {'ner': np.float32(4.0936923)}\n",
            "Losses at iteration 19: {'ner': np.float32(3.1610239)}\n",
            "Losses at iteration 20: {'ner': np.float32(3.2750244)}\n",
            "Losses at iteration 21: {'ner': np.float32(2.5410023)}\n",
            "Losses at iteration 22: {'ner': np.float32(10.746646)}\n",
            "Losses at iteration 23: {'ner': np.float32(2.8835647)}\n",
            "Losses at iteration 24: {'ner': np.float32(3.0330625)}\n",
            "Losses at iteration 25: {'ner': np.float32(2.347893)}\n",
            "Losses at iteration 26: {'ner': np.float32(3.9828413)}\n",
            "Losses at iteration 27: {'ner': np.float32(3.8400733)}\n",
            "Losses at iteration 28: {'ner': np.float32(5.4106345)}\n",
            "Losses at iteration 29: {'ner': np.float32(3.8389702)}\n"
          ]
        }
      ]
    },
    {
      "cell_type": "markdown",
      "source": [
        "**Evaluate the Model**"
      ],
      "metadata": {
        "id": "OqrXZEApFlAk"
      }
    },
    {
      "cell_type": "code",
      "source": [
        "test_text = \"Apple is opening a new office in Cupertino\"\n",
        "doc = nlp(test_text)\n",
        "for ent in doc.ents:\n",
        "    print(ent.text, ent.label_)\n"
      ],
      "metadata": {
        "colab": {
          "base_uri": "https://localhost:8080/"
        },
        "id": "NC565rmnFG5c",
        "outputId": "86513135-956b-4d91-9995-cb20183b0829"
      },
      "execution_count": 4,
      "outputs": [
        {
          "output_type": "stream",
          "name": "stdout",
          "text": [
            "Apple is ORG\n"
          ]
        }
      ]
    },
    {
      "cell_type": "code",
      "source": [],
      "metadata": {
        "id": "Cd45UDWqFoXg"
      },
      "execution_count": null,
      "outputs": []
    }
  ]
}